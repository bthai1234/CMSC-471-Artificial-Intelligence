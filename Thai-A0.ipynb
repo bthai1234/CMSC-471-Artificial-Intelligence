{
 "cells": [
  {
   "cell_type": "markdown",
   "metadata": {},
   "source": [
    "# CMSC471 - Assignment 0: Tech Setup and Getting Started with AI\n",
    "\n",
    "## Instructor: Fereydoon Vafaei"
   ]
  },
  {
   "cell_type": "markdown",
   "metadata": {},
   "source": [
    "*Type your name and ID here*"
   ]
  },
  {
   "cell_type": "markdown",
   "metadata": {},
   "source": [
    "## Overview and Learning Objectives"
   ]
  },
  {
   "cell_type": "markdown",
   "metadata": {},
   "source": [
    "This assignment prepares you for the upcoming assignments to make sure that you have setup the frameworks properly. It also provides some interesting resources to get started with the AI world.\n",
    "\n",
    "<b>Note</b>: You must download this notebook as .ipynb file, complete it on your own computer (do NOT run it on colab), and then submit the completed notebook as an .ipynb file to Blackboard."
   ]
  },
  {
   "cell_type": "markdown",
   "metadata": {},
   "source": [
    "# Part 1 - Python Setup"
   ]
  },
  {
   "cell_type": "markdown",
   "metadata": {},
   "source": [
    "In <b>Part 1</b> of this Jupyter Notebook, you should run the following cell and make sure that your Python version is correct. Depending on what OS you're using, your output might be slightly different but the Python version must be 3.5 or higher."
   ]
  },
  {
   "cell_type": "code",
   "execution_count": 1,
   "metadata": {},
   "outputs": [
    {
     "name": "stdout",
     "output_type": "stream",
     "text": [
      "Python version\n",
      "3.7.4 (default, Aug  9 2019, 18:34:13) [MSC v.1915 64 bit (AMD64)]\n",
      "Version info.\n",
      "sys.version_info(major=3, minor=7, micro=4, releaselevel='final', serial=0)\n"
     ]
    }
   ],
   "source": [
    "import sys\n",
    "print(\"Python version\")\n",
    "print (sys.version)\n",
    "print(\"Version info.\")\n",
    "print (sys.version_info)"
   ]
  },
  {
   "cell_type": "markdown",
   "metadata": {},
   "source": [
    "> Next, run the following cell which is an example of using [matplotlib](https://matplotlib.org/gallery/index.html)."
   ]
  },
  {
   "cell_type": "code",
   "execution_count": 2,
   "metadata": {},
   "outputs": [
    {
     "name": "stdout",
     "output_type": "stream",
     "text": [
      "[70.2, 66, 80.3, 95.2, 80, 91]\n"
     ]
    },
    {
     "data": {
      "text/plain": [
       "Text(0, 0.5, 'Grade')"
      ]
     },
     "execution_count": 2,
     "metadata": {},
     "output_type": "execute_result"
    },
    {
     "data": {
      "image/png": "[encoded data removed]",
      "text/plain": [
       "<Figure size 432x288 with 1 Axes>"
      ]
     },
     "metadata": {
      "needs_background": "light"
     },
     "output_type": "display_data"
    }
   ],
   "source": [
    "import matplotlib.pyplot as plt\n",
    "%matplotlib inline\n",
    "\n",
    "# Create a list of grades\n",
    "grades = [70.2, 66, 80.3, 95.2, 80, 91]\n",
    "\n",
    "# Print the list\n",
    "print(grades)\n",
    "\n",
    "# Plot grades\n",
    "plt.plot(grades,'-o')\n",
    "plt.xlabel('Assignment')\n",
    "plt.ylabel('Grade')"
   ]
  },
  {
   "cell_type": "markdown",
   "metadata": {},
   "source": [
    "## Part 2 - AI Myths vs Facts"
   ]
  },
  {
   "cell_type": "markdown",
   "metadata": {},
   "source": [
    "In Part 2, you should first read the following article: [Benefits & Risks of Artificial Intelligence](https://futureoflife.org/background/benefits-risks-of-artificial-intelligence/?cn-reloaded=1)\n",
    "\n",
    "Then, pick one of the Myths vs Facts mentioned in the article, quote it and then expand it by including and explaining your own opinion in at least one paragraph."
   ]
  },
  {
   "cell_type": "markdown",
   "metadata": {},
   "source": [
    "YOUR ANSWER GOES HERE:\n",
    "\"Myth AI turning evil/conscious vs Actual worry: AI goals misaligned with ours\" The artical brings up the point that when you see those tabloid articles about AI, They always mention AI turnning Evil or gaining conscious. I think this is a common thing that people who don't really have much of an understanding of AI all try to argue, and i think its wrong to think about it as evil or good, conscious or not. As the article goes on to explain, The worry is not so much about AI turning evil or concious but more that a unrestricted AI will seek to complete a goal in the most efficent manner, even if it means causing collateral damage in the process. The artical bring up an example with an ant hill \n",
    "   \n",
    "   \"The real worry isn’t malevolence, but competence. A superintelligent AI is by definition very good at attaining its goals, whatever they may be, so we need to ensure that its goals are aligned with ours. Humans don’t generally hate ants, but we’re more intelligent than they are – so if we want to build a hydroelectric dam and there’s an anthill there, too bad for the ants.\" \n",
    "    \n",
    "So the ideal thing to do of course, is to make sure the AI doesn't consider any actions that may put humans and anything we deam important at risk.    "
   ]
  },
  {
   "cell_type": "markdown",
   "metadata": {},
   "source": [
    "## Part 3 - Self-Assembling Brain"
   ]
  },
  {
   "cell_type": "markdown",
   "metadata": {},
   "source": [
    "Read the following article: [What AI researchers can learn from the self-assembling brain](https://bdtechtalks.com/2021/08/16/self-assembling-brain-book/)\n",
    "\n",
    "Summarize the article in at least four paragraphs in the following cell. Your summary should include the following four sections:\n",
    "- Arguments of Prof. Peter Robin Hiesinger with regards to genome and genetics\n",
    "- Why self-assembly is largely ignored in AI research\n",
    "- Searching for shortcuts to AI\n",
    "- New ways to think about artificial general intelligence\n",
    "\n",
    "DO NOT COPY/PASTE the article sentences, as it would be considered as plagiarism, and will be reported as academic misconduct."
   ]
  },
  {
   "cell_type": "markdown",
   "metadata": {},
   "source": [
    "Your summary goes HERE:\n",
    "    Prof. Peter Robin Hiesinger argues that instead of just trying to simulate the brains neural wirings, we should look into how the brain creates it self and study how \"information encoded in the genome is transformed to become the brain as we grow.\" He descibes our genome as not a bluprint but an algorithm that has various states that it goes through in deveoping the brain and it goes through those states step by step, each time gaining new learning capabilities. artifical neural networks start out with a fixed structure that starts out with no parameter or information and is then just turned on to collects that information as it gos. where as the brain starts out as nothing but has its neural network built and developed as it is growing and analyzing information. Prof. Hiesinger states that \"their fundamental differences put them on totally diffrent levels\"\n",
    "    \n",
    "   The reason self-assembly has been largly ignored is because it has been eclipsed by the success of deep learning. self-assembly currently has not produced much notable results yet, And the the money and focus tends to be placed in methods that have produced results and make more headlines. And as a result of less funding it is harder to get more work and intrest in self-assembly.\n",
    "   \n",
    "   In the section \"searching for short cuts in AI\" Prof. Hiesinger explains that another reason that researchers aren't focusing on self-assembly is that they try to find the simpalist explaination or method for the subject of study. THis means researchers are always looking for shortcuts and want to avoid having to implement more complex unessecery biological details when creating AI systems. and that self-assembly has potentail to create complex AI and dissmissing it as unessesary is a mistake. \n",
    "   \n",
    "   In the section \"New ways to think about artificial general intelligence\" Prof. Hiesinger states that when it comes to replicating the brain there are no shortcuts, and the only way to truly replicate it is to run the self-assembling algorithm in its fines detail. He also explaines that there is not agreement on exactly what the \"general\" in the term artificial general intellegence means, and that the AI community needs to adjust its perspective on artifical general intelligence. He states that if you really want to make a human like AI its not so much about \"making current level-oriented task-specific AI Faster and better but is about getting the type of information into the network that make human brains human\" and the only way to do that is with self assembly.\n",
    "    "
   ]
  },
  {
   "cell_type": "markdown",
   "metadata": {},
   "source": [
    "## Part 4 - AI Bias"
   ]
  },
  {
   "cell_type": "markdown",
   "metadata": {},
   "source": [
    "Read the following article: [\"This is how AI bias really happens—and why it’s so hard to fix\"](https://www.technologyreview.com/2019/02/04/137602/this-is-how-ai-bias-really-happensand-why-its-so-hard-to-fix/#Echobox=1577128721).\n",
    "Summarize the article in at least two paragraphs. Your summary shopuld include the following two sections:\n",
    "- How AI bias happens\n",
    "- Why AI bias is hard to fix\n",
    "\n",
    "DO NOT COPY/PASTE the article sentences, as it would be considered as plagiarism, and will be reported as academic misconduct."
   ]
  },
  {
   "cell_type": "markdown",
   "metadata": {},
   "source": [
    "Your summary goes HERE:\n",
    "    AI bias happens in three key stages one stage is the framing of the problem. Before a computer scientists creates a deep-learning model, they decide on what it must accomplish, essentially they determine the definition of the problem and its desiered solution. which is a point where the computer scientists could introduce bias into the AI.\n",
    "    A second stage is in the collection of the data, if the collection of the data is not representative of reality or it refects existing prejudices, then that will also affect the AI's development and decision proccess.\n",
    "    A thrid stage is the preparation of the data. During the preparation stage you select which attributes you want the AI to consider, this of course make it easy to influance how th AI analyses the data and there for introduce bais that way.\n",
    "    \n",
    "   AI bias is hard to fix because you may not notice the bias in the system until way later. Also in deep learning the data used to train the AI is usually split in two where in half is used to train the AI and the other is used to validate it. the problem is that this means your model will have the same bias as the data used to train it. There is also the lack of social context, Diffrent society will have diffrent norms and AI can be taught to account for the various diffrent society and social  norms. Its also a very hard to define bias and what a unbias AI would look like or how it can be accomplised. "
   ]
  },
  {
   "cell_type": "markdown",
   "metadata": {},
   "source": [
    "##  Grading"
   ]
  },
  {
   "cell_type": "markdown",
   "metadata": {},
   "source": [
    "- Assignment-0 has 22 points. The breakdown of the points is a s follows:\n",
    "    - Part 1: 5 points\n",
    "    - Part 2: 5 points\n",
    "    - Part 3: 8 points\n",
    "    - Part 4: 4 points\n",
    "\n",
    "- Grading will be based on completeness and correctness of all the required tasks, prompts and summaries.\n",
    "\n",
    "- <b>Note:</b> Incomplete summaries will get ZERO. Copy/pasted summaries will get ZERO and will be reported as academic misconduct.\n",
    "\n",
    "- Points will be deducted if you have mistakes in naming the file."
   ]
  },
  {
   "cell_type": "markdown",
   "metadata": {},
   "source": [
    "## How to Submit and Due Date"
   ]
  },
  {
   "cell_type": "markdown",
   "metadata": {},
   "source": [
    "Name your completed notebook ```Lastname-A0.ipynb```.  \n",
    "\n",
    "Submit the .ipynb file using the ```Assignment-0``` link on Blackboard.\n",
    "  \n",
    "<font color=red><b>Due Date: Monday September 13, 11:59PM</b></font>"
   ]
  }
 ],
 "metadata": {
  "anaconda-cloud": {},
  "kernelspec": {
   "display_name": "Python 3",
   "language": "python",
   "name": "python3"
  },
  "language_info": {
   "codemirror_mode": {
    "name": "ipython",
    "version": 3
   },
   "file_extension": ".py",
   "mimetype": "text/x-python",
   "name": "python",
   "nbconvert_exporter": "python",
   "pygments_lexer": "ipython3",
   "version": "3.7.4"
  }
 },
 "nbformat": 4,
 "nbformat_minor": 1
}
