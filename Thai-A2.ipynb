{
 "cells": [
  {
   "cell_type": "markdown",
   "metadata": {},
   "source": [
    "# CMSC471 - Artificial Intelligence - Fall 2021\n",
    "# Instructor: Fereydoon Vafaei\n",
    "# <font color=\"blue\"> Assignment 2: CSP and Propositional Logic</font>"
   ]
  },
  {
   "cell_type": "markdown",
   "metadata": {},
   "source": [
    "Benjamin Thai\n"
   ]
  },
  {
   "cell_type": "markdown",
   "metadata": {},
   "source": [
    "## Overview and Learning Objectives"
   ]
  },
  {
   "cell_type": "markdown",
   "metadata": {},
   "source": [
    "- In *Part I* of this assignment, you will practice CSP using `python-constraint` module for preliminary steps of a course scheduling system.\n",
    "\n",
    "- In *Part II* of this assignment, you will do some exerices on propositional logic.\n",
    "\n",
    "Pedagogically, this assignment will help you:\n",
    "- better understand CSP definition, formulation and solutions. \n",
    "- better understand and practice propositional logic, logical statements, syntax, semantics, validity, satisfiability, logical equivalence and CNF."
   ]
  },
  {
   "cell_type": "markdown",
   "metadata": {},
   "source": [
    "<b>Very Important Note:</b> Read ALL the instructions in this notebook very carefully. **Wherever a link is provided, click on the link and read the resource!** Careless reading and skipping instructions are major sources of making mistakes and losing points in your assignments. Also note that this assignment includes multiple steps and questions. You're strongly recommended to get started early and plan to finish well before the due date. Technical problems or other issues/questions on the due date or just a day before would NOT be accepted as an excuse for extension."
   ]
  },
  {
   "cell_type": "markdown",
   "metadata": {},
   "source": [
    "<b>Course Policy Reminder</b>\n",
    "Debugging the codes and error resolution are ALWAYS the students' responsbility regardless of the source or the cause of the error. This policy will be enforced in email communications and the office hours. Keep in mind that all assignments are individual graded tasks. Any collaboration with other students is strictly prohibited and is considered as cheating. Students should NOT share any answer, solution, or code with other students. Violations of these policies would be penalized according to UMBC academic integrity policy.\n",
    "\n",
    "**You must run ALL cells** and get the correct outputs for all cells and give complete answers to all questions. **Cells/codes with no output get zero!**\n",
    "\n",
    "Follow the instructions for each step very carefully.\n",
    "\n",
    "Wherever needed, you should replace `...` elipsis with your code.\n",
    "\n",
    "`...` may indicate one or more lines of missing codes. Some outputs are provided to you to use as reference and to verify that your output is correct."
   ]
  },
  {
   "cell_type": "markdown",
   "metadata": {},
   "source": [
    "## Installing python-constraint"
   ]
  },
  {
   "cell_type": "markdown",
   "metadata": {},
   "source": [
    "You must install `python-constraint` for this assignment. In Linux, you can simply install it using the terminal: <br>\n",
    "\n",
    "`$ pip install python-constraint`\n",
    "\n",
    "In other OS platforms, you may need to install it via Anaconda command prompt. **You are responsible for proper installation and resolving any issues that may arise during the installation process**. Documentation is available [here](https://github.com/python-constraint/python-constraint) and [here](http://labix.org/doc/constraint/)."
   ]
  },
  {
   "cell_type": "markdown",
   "metadata": {},
   "source": [
    "## Part I - CSP in Python for Course Scheduling"
   ]
  },
  {
   "cell_type": "markdown",
   "metadata": {},
   "source": [
    "As mentioned in the lectures, one of the applications of CSP is for solving scheduling problems. Scheduling at large scale is generally a hard problem and includes various types such as task scheduling. Course scheduling at academic institutions is a challenging process. In this part, you are given a simplified version of an introductory-level course scheduling problem.\n",
    "\n",
    "In this simplified CSP, variables and domains include a fixed number of professors (two professors), four AI/ML/NLP courses to be offered, two classrooms, as well as a list of possible days and time slots for classes. The simplified set of constraints includes a few day/time limitations, classroom availability, capacity constraints for classrooms, and faculty course preferences."
   ]
  },
  {
   "cell_type": "markdown",
   "metadata": {},
   "source": [
    "### <b><ins>CSP Definition</ins></b>"
   ]
  },
  {
   "cell_type": "markdown",
   "metadata": {},
   "source": [
    "<b>Variables and Domains:</b>\n",
    "- There are two professors: `[\"Tim\", \"Fred\"]`\n",
    "\n",
    "- There are four courses: `[\"CMSC471\", \"CMSC478\", \"CMSC473\", \"CMSC491\"]`\n",
    "\n",
    "- There are two available classrooms: `[\"ITE227\", \"ITE233\"]`\n",
    "\n",
    "- There are four available days: `[\"Mon\", \"Wed\", \"Tue\", \"Thu\"]`\n",
    "\n",
    "- There are five time slots: `[\"10:00\", \"11:30\", \"1:00\", \"4:00\", \"5:30\"]`\n",
    "\n",
    "<b>Constraints:</b>\n",
    "\n",
    "- Day Constraint: Tim does NOT teach on Mon and Wed.\n",
    "\n",
    "- Time Constraint: Tim teaches only at 10:00 AND Fred does NOT teach at 10:00 and 11:30.\n",
    "\n",
    "- Classroom Constraint: ITE227 is NOT available on Mon and ITE233 is NOT available on Tue.\n",
    "\n",
    "- Capacity Constraint: ITE233 does NOT fit for CMSC478 and CMSC491 - so it's NOT used for those courses.\n",
    "\n",
    "- Course Constraint: Fred does NOT teach CMSC473 and CMSC491 and Tim does NOT teach CMSC478."
   ]
  },
  {
   "cell_type": "markdown",
   "metadata": {},
   "source": [
    "<b>Hints:</b>\n",
    "- Remember that constraints can be represented by logical sentences. Also remember from Propositional Logic equivalencies that $(P \\implies Q) \\equiv \\neg P \\lor Q$ <br>\n",
    "\n",
    "- So you can convert the implications to logical `or` in Python. Because you do implication elimination multiple times, you need to implement `implies` function.\n",
    "\n",
    "- Also note that some constraints are compound. The function that you write for each constraint should precisely, correctly and completely implement the whole constraint by using `implies` function and proper logical connectives.\n",
    "\n",
    "- <font color=\"red\"><b>NO PARTIAL CREDIT FOR IMPLEMENTATION OF THIS CELL - ALL CONSTRAINTS MUST BE CORRECT; OTHERWISE, IT GETS ZERO.</b></font>"
   ]
  },
  {
   "cell_type": "code",
   "execution_count": 28,
   "metadata": {},
   "outputs": [
    {
     "name": "stdout",
     "output_type": "stream",
     "text": [
      "35 assignments found:\n",
      "0: {'professor': 'Fred', 'classroom': 'ITE233', 'course': 'CMSC471', 'day': 'Thu', 'time': '5:30'}\n",
      "1: {'professor': 'Fred', 'classroom': 'ITE233', 'course': 'CMSC471', 'day': 'Thu', 'time': '4:00'}\n",
      "2: {'professor': 'Fred', 'classroom': 'ITE233', 'course': 'CMSC471', 'day': 'Thu', 'time': '1:00'}\n",
      "3: {'professor': 'Fred', 'classroom': 'ITE233', 'course': 'CMSC471', 'day': 'Wed', 'time': '5:30'}\n",
      "4: {'professor': 'Fred', 'classroom': 'ITE233', 'course': 'CMSC471', 'day': 'Wed', 'time': '4:00'}\n",
      "5: {'professor': 'Fred', 'classroom': 'ITE233', 'course': 'CMSC471', 'day': 'Wed', 'time': '1:00'}\n",
      "6: {'professor': 'Fred', 'classroom': 'ITE233', 'course': 'CMSC471', 'day': 'Mon', 'time': '5:30'}\n",
      "7: {'professor': 'Fred', 'classroom': 'ITE233', 'course': 'CMSC471', 'day': 'Mon', 'time': '4:00'}\n",
      "8: {'professor': 'Fred', 'classroom': 'ITE233', 'course': 'CMSC471', 'day': 'Mon', 'time': '1:00'}\n",
      "9: {'professor': 'Fred', 'classroom': 'ITE227', 'course': 'CMSC478', 'day': 'Tue', 'time': '5:30'}\n",
      "10: {'professor': 'Fred', 'classroom': 'ITE227', 'course': 'CMSC478', 'day': 'Tue', 'time': '4:00'}\n",
      "11: {'professor': 'Fred', 'classroom': 'ITE227', 'course': 'CMSC478', 'day': 'Tue', 'time': '1:00'}\n",
      "12: {'professor': 'Fred', 'classroom': 'ITE227', 'course': 'CMSC478', 'day': 'Thu', 'time': '5:30'}\n",
      "13: {'professor': 'Fred', 'classroom': 'ITE227', 'course': 'CMSC478', 'day': 'Thu', 'time': '4:00'}\n",
      "14: {'professor': 'Fred', 'classroom': 'ITE227', 'course': 'CMSC478', 'day': 'Thu', 'time': '1:00'}\n",
      "15: {'professor': 'Fred', 'classroom': 'ITE227', 'course': 'CMSC478', 'day': 'Wed', 'time': '5:30'}\n",
      "16: {'professor': 'Fred', 'classroom': 'ITE227', 'course': 'CMSC478', 'day': 'Wed', 'time': '4:00'}\n",
      "17: {'professor': 'Fred', 'classroom': 'ITE227', 'course': 'CMSC478', 'day': 'Wed', 'time': '1:00'}\n",
      "18: {'professor': 'Fred', 'classroom': 'ITE227', 'course': 'CMSC471', 'day': 'Tue', 'time': '5:30'}\n",
      "19: {'professor': 'Fred', 'classroom': 'ITE227', 'course': 'CMSC471', 'day': 'Tue', 'time': '4:00'}\n",
      "20: {'professor': 'Fred', 'classroom': 'ITE227', 'course': 'CMSC471', 'day': 'Tue', 'time': '1:00'}\n",
      "21: {'professor': 'Fred', 'classroom': 'ITE227', 'course': 'CMSC471', 'day': 'Thu', 'time': '5:30'}\n",
      "22: {'professor': 'Fred', 'classroom': 'ITE227', 'course': 'CMSC471', 'day': 'Thu', 'time': '4:00'}\n",
      "23: {'professor': 'Fred', 'classroom': 'ITE227', 'course': 'CMSC471', 'day': 'Thu', 'time': '1:00'}\n",
      "24: {'professor': 'Fred', 'classroom': 'ITE227', 'course': 'CMSC471', 'day': 'Wed', 'time': '5:30'}\n",
      "25: {'professor': 'Fred', 'classroom': 'ITE227', 'course': 'CMSC471', 'day': 'Wed', 'time': '4:00'}\n",
      "26: {'professor': 'Fred', 'classroom': 'ITE227', 'course': 'CMSC471', 'day': 'Wed', 'time': '1:00'}\n",
      "27: {'professor': 'Tim', 'classroom': 'ITE233', 'day': 'Thu', 'course': 'CMSC473', 'time': '10:00'}\n",
      "28: {'professor': 'Tim', 'classroom': 'ITE233', 'day': 'Thu', 'course': 'CMSC471', 'time': '10:00'}\n",
      "29: {'professor': 'Tim', 'classroom': 'ITE227', 'day': 'Tue', 'course': 'CMSC491', 'time': '10:00'}\n",
      "30: {'professor': 'Tim', 'classroom': 'ITE227', 'day': 'Tue', 'course': 'CMSC473', 'time': '10:00'}\n",
      "31: {'professor': 'Tim', 'classroom': 'ITE227', 'day': 'Tue', 'course': 'CMSC471', 'time': '10:00'}\n",
      "32: {'professor': 'Tim', 'classroom': 'ITE227', 'day': 'Thu', 'course': 'CMSC491', 'time': '10:00'}\n",
      "33: {'professor': 'Tim', 'classroom': 'ITE227', 'day': 'Thu', 'course': 'CMSC473', 'time': '10:00'}\n",
      "34: {'professor': 'Tim', 'classroom': 'ITE227', 'day': 'Thu', 'course': 'CMSC471', 'time': '10:00'}\n"
     ]
    }
   ],
   "source": [
    "''' [40 points - NO PARTIAL CREDIT]\n",
    "An introductory program for solving CSP using python-constraint for course scheduling'''\n",
    "# Import constraint\n",
    "from constraint import *\n",
    "\n",
    "# Create a dictionary to hold the variables and domains of professors, courses, classrooms, days and times\n",
    "varDomainDict = {\"professor\" : [\"Tim\", \"Fred\"], \"course\" : [\"CMSC471\", \"CMSC478\", \"CMSC473\", \"CMSC491\"],\n",
    "                        \"classroom\" : [\"ITE227\", \"ITE233\"], \"day\" : [\"Mon\", \"Wed\", \"Tue\", \"Thu\"],\n",
    "                        \"time\" : [\"10:00\", \"11:30\", \"1:00\", \"4:00\", \"5:30\"]}\n",
    "\n",
    "# Create a constraint satisfaction problem\n",
    "csp = Problem()\n",
    "\n",
    "# Add the dict key, value as Variable and their domains to problem\n",
    "for key, value in varDomainDict.items():\n",
    "    csp.addVariable(key, value)\n",
    "\n",
    "# Functions to implement constraints - NO PARTIAL CREDIT: You must implement everything correctly!\n",
    "# You must use implies function for all constraints\n",
    "# /---------------------------------------------------------------\n",
    "\n",
    "# Function implies takes p and q, if p => q is true, it returns true - Hint: Use implication elimination\n",
    "def implies(p, q):\n",
    "    if not p or q:\n",
    "        return True\n",
    "    else:\n",
    "        return False\n",
    "\n",
    "# Tim does not teach on Mon and Wed - This constraint is provided to help you write others\n",
    "def dayConstraint(professor, day):\n",
    "    if implies(professor == \"Tim\", (day != \"Mon\" and day != \"Wed\")):\n",
    "        return True\n",
    "\n",
    "# Tim teaches only at 10:00 AND Fred does not teach at 10:00 and 11:30\n",
    "def timeConstraint(professor, time):\n",
    "    if professor == \"Tim\":\n",
    "        return implies(professor == \"Tim\", time == \"10:00\")\n",
    "    elif professor == \"Fred\":\n",
    "        return implies(professor == \"Fred\", (time != \"10:00\" and time != \"11:30\"))\n",
    "    else:\n",
    "        return False\n",
    "    \n",
    "# ITE227 is not available on Mon AND ITE233 is not available on Tue\n",
    "def classroomConstraint(classroom, day):\n",
    "    if classroom == \"ITE227\":\n",
    "        return implies(classroom == \"ITE227\", day != \"Mon\")\n",
    "    elif classroom == \"ITE233\":\n",
    "        return implies(classroom == \"ITE233\", day != \"Tue\")\n",
    "    else:\n",
    "        return False\n",
    "    \n",
    "# ITE233 does not fit for CMSC478 AND CMSC491 - so it's not used for those courses!\n",
    "def capacityConstraint(classroom, course):\n",
    "    if implies(classroom == \"ITE233\", (course != \"CMSC478\" and course != \"CMSC491\")):\n",
    "        return True\n",
    "    else:\n",
    "        return False\n",
    "\n",
    "# Fred doesn't teach CMSC473 and CMSC491 AND Tim doesn't teach CMSC478\n",
    "def courseConstraint(professor, course):\n",
    "    if professor == \"Tim\":\n",
    "        return implies(professor == \"Tim\", course != \"CMSC478\")\n",
    "    elif professor == \"Fred\":\n",
    "        return implies(professor == \"Fred\", (course != \"CMSC473\" and course != \"CMSC491\"))\n",
    "    else:\n",
    "        return False\n",
    "\n",
    "# /---------------------------------------------------------------\n",
    "\n",
    "# addConstraint dayConstraint - This one is provided to help you write others\n",
    "csp.addConstraint(dayConstraint, ['professor', 'day'])\n",
    "\n",
    "# Add all other four constraints (4 lines)\n",
    "csp.addConstraint(timeConstraint, ['professor', 'time'])\n",
    "csp.addConstraint(classroomConstraint, ['classroom', 'day'])\n",
    "csp.addConstraint(capacityConstraint, ['classroom', 'course'])\n",
    "csp.addConstraint(courseConstraint, ['professor', 'course'])\n",
    "\n",
    "# Get the solution and print it\n",
    "solution = csp.getSolutions()\n",
    "print(len(solution), \"assignments found:\")\n",
    "print('\\n'.join('{}: {}'.format(*k) for k in enumerate(solution))) "
   ]
  },
  {
   "cell_type": "markdown",
   "metadata": {},
   "source": [
    "## Part I Questions"
   ]
  },
  {
   "cell_type": "markdown",
   "metadata": {},
   "source": [
    "<b>Q1 [5 points]</b> - Look at the CSP solution above. If you properly follow the implementation based on the comments and constraints, you should get exactly 35 consistent assignments for variables where none of the constraints are violated. **You must check and verify that no constraint is violated.**\n",
    "\n",
    "For instance, the following are two consistent assignments for Fred and Tim respectively:<br>\n",
    "`{'professor': 'Fred', 'classroom': 'ITE233', 'course': 'CMSC471', 'day': 'Thu', 'time': '5:30'}` <br>\n",
    "`{'professor': 'Tim', 'classroom': 'ITE233', 'day': 'Thu', 'course': 'CMSC473', 'time': '10:00'}`\n",
    "\n",
    "> Notice that there is NO PARTIAL CREDIT FOR CONSTRAINTS! That means that even if one of your assignments violates a single constraint, you would lose the whole points of this part. So double-check all the assignments to make sure no constraint has been violated.\n",
    "\n",
    "Next, check the solution for any other inconsistency or conflict that is NOT addressed by the defined constraints. \n",
    "\n",
    "> <b>Hint:</b> For instance, check if there exists a conflict in the solution such that a professor must be present at two different classrooms at the same time/day which would be practically impossible. Certainly, there are inconsistencies that this CSP solution can't address due to the insufficiency of the defined constraints. Name two inconsistency issues below:\n",
    "\n",
    "Issue-1:  <br>There are inconsistencies where a professor is scheduled to have multiple courses on the same day/time and in the same classroom prof. Tim having the following<br> \n",
    "\n",
    "32: {'professor': 'Tim', 'classroom': 'ITE227', 'day': 'Thu', 'course': 'CMSC491', 'time': '10:00'}\n",
    "\n",
    "33: {'professor': 'Tim', 'classroom': 'ITE227', 'day': 'Thu', 'course': 'CMSC473', 'time': '10:00'}\n",
    "\n",
    "34: {'professor': 'Tim', 'classroom': 'ITE227', 'day': 'Thu', 'course': 'CMSC471', 'time': '10:00'}\n",
    "\n",
    "Prof. Tim has three diffrent courses on the same day/time and in the same class room. teaching three classes at the same time is not practical.\n",
    "\n",
    "Issue-2:  <br>The other inconsistency is Prof. fred having multiple courses schedualed at the same day/time and being at two diffrent rooms, which would be physically impossible for him to do<br>\n",
    "\n",
    "1: {'professor': 'Fred', 'classroom': 'ITE233', 'course': 'CMSC471', 'day': 'Thu', 'time': '4:00'}\n",
    "\n",
    "13: {'professor': 'Fred', 'classroom': 'ITE227', 'course': 'CMSC478', 'day': 'Thu', 'time': '4:00'}\n",
    "\n",
    "<b>Q2 [5 points]</b> - Explain how you would address those issues that you found in Q1. Note that solving a course scheduling problem is a hard problem and a thorough CSP formulation and solution may potentially be defined as an industry project or at the level of a Master's thesis in academia. Nonetheless, in your answer, briefly explain the constraints that can be added to find a good and consistent solution for this CSP. In natural language (without implementation and symbolic logic), add <b>at least two more constraints</b> to resolve the two major issues in the solution that you identified in Q1. Your constraints in English should precisely and clearly address the issues.\n",
    "\n",
    "New constraint-1 in natural language: \n",
    "\n",
    "To solve the problem of having multiple courses scheduled at the same day/time/room we can make additions to the course constrant to lower the number of overlapping answers like:\n",
    "\n",
    "Tim also does NOT teach CMSC473 and CMSC471. And Fred also does not teach CMSC471. \n",
    "\n",
    "For the current domains doing this will remove all the overlapping courses that share a classroom and scheduled time/day.  \n",
    "\n",
    "New constraint-2 in natural language: \n",
    "\n",
    "to address the second issue of having courses scheduled at the same time in two diffrent classrooms, we can again modify the classroom constrain to be more restrictive to remove overlapping answers like:\n",
    "\n",
    "ITE227 is not avalable on wednesdays and thursdays\n",
    "\n",
    "this addition to the constraint will remove the answers where ITE227 and ITE233 days overlap"
   ]
  },
  {
   "cell_type": "markdown",
   "metadata": {},
   "source": [
    "## Part II - Propositional Logic"
   ]
  },
  {
   "cell_type": "markdown",
   "metadata": {},
   "source": [
    "Answer the following questions on Propositional Logic IN THIS CELL.\n",
    "\n",
    "<b><font color=\"red\">Note: You must use inline LaTeX format of Markdown for your answers of Q3 (d and e) and Q4. You can use the same symbols in the questions for your answers. You may also want to check the tables [here](https://oeis.org/wiki/List_of_LaTeX_mathematical_symbols) to get the symbols.</font></b>\n",
    "\n",
    "<b>Q3 [20 points]</b> - State whether each of the following propositional logic sentences is <b>satisfiable</b> (possibly true or false), <b>unsatisfiable</b> (always false F), or <b>valid</b> (always true T).\n",
    "\n",
    "**Note**: For `d` and `e`, you must show your work and **prove** whether it is valid, satisfiable or unsatisfiable.\n",
    "\n",
    "[a - 2 points] $\\neg (DEMOCRAT \\lor REPUBLICAN)$<br>\n",
    "Answer [a]: Satisfiable\n",
    "\n",
    "[b - 2 points] $\\neg STUDY \\implies FAIL$<br>\n",
    "Answer [b]: Satisfiable\n",
    "\n",
    "[c - 2 points] $(P \\land F) \\land T$<br>\n",
    "Answer [c]: Satisfiable\n",
    "\n",
    "\n",
    "[d - 7 points] $(\\neg P \\land Q) \\implies Q$ <br>\n",
    "Answer [d]: Valid\n",
    "\n",
    "**Show your work using LaTeX for [d].**<br>\n",
    "$(\\neg P \\land Q) \\implies Q$ <br>\n",
    "$\\neg(\\neg P \\land Q) \\lor Q$   implication elimination<br>\n",
    "$(P \\lor \\neg Q) \\lor Q$   De morgans<br>\n",
    "$P \\lor (\\neg Q \\lor Q)$<br>\n",
    "Since we have both $Q$ and its negation $\\neg Q$ in a disjunction as well as P in a disjunction this sentence will always be true and therefore valid \n",
    "\n",
    "[e - 7 points] $(\\neg Q \\implies \\neg P) \\implies (P \\implies Q)$ <br>\n",
    "Answer [e]: Valid\n",
    "\n",
    "**Show your work using LaTeX for [e].**<br>\n",
    "$(\\neg Q \\implies \\neg P) \\implies (P \\implies Q)$ <br>\n",
    "$(Q \\lor \\neg P) \\implies (\\neg P \\lor Q)$ implication elimination for sentences in parentheses<br>\n",
    "$\\neg(Q \\lor \\neg P) \\lor (\\neg P \\lor Q)$ implication elimination <br>\n",
    "$(\\neg Q \\land P) \\lor (\\neg P \\lor Q)$ De morgans<br>\n",
    "$((\\neg P \\lor Q) \\lor \\neg Q) \\land ((\\neg P \\lor Q) \\lor P)$ <br>\n",
    "$(\\neg P \\lor Q \\lor \\neg Q) \\land (Q \\lor \\neg P \\lor P)$ <br>\n",
    "\n",
    "\n",
    "this sentence will always true and therefore valid\n",
    "\n",
    "<b>Q4 [30 points]</b> - Resolution as the inference rule requires sentences to be in Conjunctive Normal Form (CNF).  \n",
    "\n",
    "Procedure to convert Propositional Logic sentences to CNF:\n",
    "\n",
    "- Eliminate biconditional. $(P \\iff Q) \\equiv (P \\Rightarrow Q) \\land (Q \\Rightarrow P)$\n",
    "\n",
    "- Eliminate implication. $(P \\Rightarrow Q) \\equiv \\neg P \\lor Q$\n",
    "\n",
    "- Move $\\neg$ inwards, i.e. apply it using DeMorgan or eliminate double-negation if applies.\n",
    "\n",
    "- Distribute $\\lor$ over $\\land$\n",
    "\n",
    "- Flatten nesting ONLY if all connectives inside the inner parentheses and outer parentheses are the same. For example: $((P \\lor Q) \\lor R)$ becomes $(P\\lor Q \\lor R)$. Note that if connectives are not the same, you can't flatten!\n",
    "\n",
    "You may see an example of CNF conversion in slide 68 of [Chapter-7 slides here](http://aima.eecs.berkeley.edu/slides-pdf/chapter07.pdf).\n",
    "\n",
    "Convert the following sentences to CNF. You must complete ALL the steps correctly. NO PARTIAL CREDIT FOR CNF CONVERSION!<br>\n",
    "\n",
    "**Show your work using LaTeX.**\n",
    "\n",
    "[f - 10 points] $(P \\Rightarrow Q) \\implies (U \\land V)$\n",
    "$\\equiv$ \n",
    "\n",
    "$\\neg(\\neg P \\lor Q) \\lor (U \\land V)$ Impication elimination\n",
    "\n",
    "$(P \\land \\neg Q) \\lor (U \\land V)$ Demorgans\n",
    "\n",
    "$(\\neg P \\lor Q) \\land (\\neg U \\lor \\neg V)$ Demorgans\n",
    "\n",
    "\n",
    "\n",
    "[g - 10 points] $(P \\lor Q) \\land (R \\iff S)$\n",
    "$\\equiv$ \n",
    "\n",
    "$(P \\lor Q) \\land (R \\Rightarrow S) \\land (S \\Rightarrow R)$ Biconditional Elimination\n",
    "\n",
    "$(P \\lor Q) \\land (\\neg R \\lor S) \\land (\\neg S \\lor R)$ Implication Elimination\n",
    "\n",
    "\n",
    "[h - 10 points] $(P \\iff Q) \\land (R \\implies S)$\n",
    "$\\equiv$ \n",
    "\n",
    "$(P \\Rightarrow Q) \\land (Q \\Rightarrow P) \\land (R \\implies S)$ Biconditional Elimination\n",
    "\n",
    "$(\\neg P \\lor Q) \\land (\\neg Q \\lor P) \\land (\\neg R \\lor S)$ implication elimination Elimination\n",
    "\n"
   ]
  },
  {
   "cell_type": "markdown",
   "metadata": {},
   "source": [
    "## Grading"
   ]
  },
  {
   "cell_type": "markdown",
   "metadata": {},
   "source": [
    "Assignment-2 has a maximum of 100 points. Make sure that you get the desired outputs, (i.e. getting the CSP solution as instructed) for the cell that you implemented and answer all questions. Also, your notebook should be written with no grammatical and spelling errors and should be easy-to-read.\n",
    "\n",
    "The breakdown of the 100 points is as follows:\n",
    "\n",
    "- Part I has 50 points\n",
    "\n",
    "    - Implementation of all constraints and functions: 40 points - NO PARTIAL CREDIT FOR IMPLEMENTATION OF CONSTRAINTS\n",
    "\n",
    "    - **Q1** and **Q2**: 10 points\n",
    "\n",
    "- Part II has 50 points \n",
    "    - **Q3**: 20 points\n",
    "    - **Q4**: 30 points - NO PARTIAL CREDIT FOR CNF CONVERSION\n",
    "\n",
    "<font color=\"red\"><b>In answering Part II Q3 (d and e) and Q4 (CNF conversion), you must use LaTeX; otherwise, your answer would get ZERO even if the answer is correct.</b></font>\n",
    "\n",
    "Remember that you should **NOT** change the format of the notebook by deleting the text or instructions.\n",
    "\n",
    "<b>Note: </b>Follow the instructions of each section carefully. **Up to 10 points may be deducted if your submitted notebook is not easy to read and follow or if it has grammatical, spelling or formatting issues.**\n",
    "\n",
    "Grading will be based on: \n",
    "  \n",
    "  * correct implementation and logic of all the constraints and functions,\n",
    "  * running ALL cells and correct outputs, (cells with no output get ZERO for the whole part that includes the cell)\n",
    "  * correct answer to all questions,\n",
    "  * proper use of LaTeX in Part II Q3 (`d` and `e`) & Q4,\n",
    "  * readability of the notebook with no spelling and grammatical errors."
   ]
  },
  {
   "cell_type": "markdown",
   "metadata": {},
   "source": [
    "## Submission"
   ]
  },
  {
   "cell_type": "markdown",
   "metadata": {},
   "source": [
    "Name your notebook ```Lastname-A2.ipynb```. Submit the completed notebook using the ```Assignment-2``` link on Blackboard.\n",
    "\n",
    "**Note:** You have a maximum of TWO submissions. If you submit a second notebook, your second notebook will be graded and the first submitted notebook will be ignored. Be very careful in your submissions as resubmission requests (for the third time) will NOT be accepted!\n",
    "  \n",
    "<font color=red><b>Due Date: Thursday October 21st, 11:59PM</b></font>"
   ]
  }
 ],
 "metadata": {
  "kernelspec": {
   "display_name": "Python 3",
   "language": "python",
   "name": "python3"
  },
  "language_info": {
   "codemirror_mode": {
    "name": "ipython",
    "version": 3
   },
   "file_extension": ".py",
   "mimetype": "text/x-python",
   "name": "python",
   "nbconvert_exporter": "python",
   "pygments_lexer": "ipython3",
   "version": "3.7.4"
  }
 },
 "nbformat": 4,
 "nbformat_minor": 2
}
